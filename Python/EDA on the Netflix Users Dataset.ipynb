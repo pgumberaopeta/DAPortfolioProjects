{
 "cells": [
  {
   "cell_type": "markdown",
   "id": "cc1ca470",
   "metadata": {},
   "source": [
    "## Exploratory Data Analysis on the Netflix Users Dataset using Python"
   ]
  },
  {
   "cell_type": "markdown",
   "id": "74f823e7",
   "metadata": {},
   "source": [
    "#### Dataset source: https://www.kaggle.com/datasets/arnavsmayan/netflix-userbase-dataset"
   ]
  },
  {
   "cell_type": "code",
   "execution_count": 188,
   "id": "b134dc7f",
   "metadata": {},
   "outputs": [],
   "source": [
    "#Importing the necessary libraries\n",
    "import pandas as pd\n",
    "import matplotlib.pyplot as plt\n",
    "import seaborn as sns\n",
    "import numpy as np"
   ]
  },
  {
   "cell_type": "code",
   "execution_count": 189,
   "id": "08deb7af",
   "metadata": {},
   "outputs": [],
   "source": [
    "#Load the dataset\n",
    "df = pd.read_csv('Netflix_Userbase.csv')  "
   ]
  },
  {
   "cell_type": "code",
   "execution_count": 190,
   "id": "42687bd9",
   "metadata": {},
   "outputs": [
    {
     "data": {
      "text/html": [
       "<div>\n",
       "<style scoped>\n",
       "    .dataframe tbody tr th:only-of-type {\n",
       "        vertical-align: middle;\n",
       "    }\n",
       "\n",
       "    .dataframe tbody tr th {\n",
       "        vertical-align: top;\n",
       "    }\n",
       "\n",
       "    .dataframe thead th {\n",
       "        text-align: right;\n",
       "    }\n",
       "</style>\n",
       "<table border=\"1\" class=\"dataframe\">\n",
       "  <thead>\n",
       "    <tr style=\"text-align: right;\">\n",
       "      <th></th>\n",
       "      <th>User ID</th>\n",
       "      <th>Subscription Type</th>\n",
       "      <th>Monthly Revenue</th>\n",
       "      <th>Join Date</th>\n",
       "      <th>Last Payment Date</th>\n",
       "      <th>Country</th>\n",
       "      <th>Age</th>\n",
       "      <th>Gender</th>\n",
       "      <th>Device</th>\n",
       "      <th>Plan Duration</th>\n",
       "    </tr>\n",
       "  </thead>\n",
       "  <tbody>\n",
       "    <tr>\n",
       "      <th>0</th>\n",
       "      <td>1</td>\n",
       "      <td>Basic</td>\n",
       "      <td>10</td>\n",
       "      <td>15-01-22</td>\n",
       "      <td>10-06-23</td>\n",
       "      <td>United States</td>\n",
       "      <td>28</td>\n",
       "      <td>Male</td>\n",
       "      <td>Smartphone</td>\n",
       "      <td>1 Month</td>\n",
       "    </tr>\n",
       "    <tr>\n",
       "      <th>1</th>\n",
       "      <td>2</td>\n",
       "      <td>Premium</td>\n",
       "      <td>15</td>\n",
       "      <td>05-09-21</td>\n",
       "      <td>22-06-23</td>\n",
       "      <td>Canada</td>\n",
       "      <td>35</td>\n",
       "      <td>Female</td>\n",
       "      <td>Tablet</td>\n",
       "      <td>1 Month</td>\n",
       "    </tr>\n",
       "    <tr>\n",
       "      <th>2</th>\n",
       "      <td>3</td>\n",
       "      <td>Standard</td>\n",
       "      <td>12</td>\n",
       "      <td>28-02-23</td>\n",
       "      <td>27-06-23</td>\n",
       "      <td>United Kingdom</td>\n",
       "      <td>42</td>\n",
       "      <td>Male</td>\n",
       "      <td>Smart TV</td>\n",
       "      <td>1 Month</td>\n",
       "    </tr>\n",
       "    <tr>\n",
       "      <th>3</th>\n",
       "      <td>4</td>\n",
       "      <td>Standard</td>\n",
       "      <td>12</td>\n",
       "      <td>10-07-22</td>\n",
       "      <td>26-06-23</td>\n",
       "      <td>Australia</td>\n",
       "      <td>51</td>\n",
       "      <td>Female</td>\n",
       "      <td>Laptop</td>\n",
       "      <td>1 Month</td>\n",
       "    </tr>\n",
       "    <tr>\n",
       "      <th>4</th>\n",
       "      <td>5</td>\n",
       "      <td>Basic</td>\n",
       "      <td>10</td>\n",
       "      <td>01-05-23</td>\n",
       "      <td>28-06-23</td>\n",
       "      <td>Germany</td>\n",
       "      <td>33</td>\n",
       "      <td>Male</td>\n",
       "      <td>Smartphone</td>\n",
       "      <td>1 Month</td>\n",
       "    </tr>\n",
       "    <tr>\n",
       "      <th>5</th>\n",
       "      <td>6</td>\n",
       "      <td>Premium</td>\n",
       "      <td>15</td>\n",
       "      <td>18-03-22</td>\n",
       "      <td>27-06-23</td>\n",
       "      <td>France</td>\n",
       "      <td>29</td>\n",
       "      <td>Female</td>\n",
       "      <td>Smart TV</td>\n",
       "      <td>1 Month</td>\n",
       "    </tr>\n",
       "    <tr>\n",
       "      <th>6</th>\n",
       "      <td>7</td>\n",
       "      <td>Standard</td>\n",
       "      <td>12</td>\n",
       "      <td>09-12-21</td>\n",
       "      <td>25-06-23</td>\n",
       "      <td>Brazil</td>\n",
       "      <td>46</td>\n",
       "      <td>Male</td>\n",
       "      <td>Tablet</td>\n",
       "      <td>1 Month</td>\n",
       "    </tr>\n",
       "    <tr>\n",
       "      <th>7</th>\n",
       "      <td>8</td>\n",
       "      <td>Basic</td>\n",
       "      <td>10</td>\n",
       "      <td>02-04-23</td>\n",
       "      <td>24-06-23</td>\n",
       "      <td>Mexico</td>\n",
       "      <td>39</td>\n",
       "      <td>Female</td>\n",
       "      <td>Laptop</td>\n",
       "      <td>1 Month</td>\n",
       "    </tr>\n",
       "    <tr>\n",
       "      <th>8</th>\n",
       "      <td>9</td>\n",
       "      <td>Standard</td>\n",
       "      <td>12</td>\n",
       "      <td>20-10-22</td>\n",
       "      <td>23-06-23</td>\n",
       "      <td>Spain</td>\n",
       "      <td>37</td>\n",
       "      <td>Male</td>\n",
       "      <td>Smartphone</td>\n",
       "      <td>1 Month</td>\n",
       "    </tr>\n",
       "    <tr>\n",
       "      <th>9</th>\n",
       "      <td>10</td>\n",
       "      <td>Premium</td>\n",
       "      <td>15</td>\n",
       "      <td>07-01-23</td>\n",
       "      <td>22-06-23</td>\n",
       "      <td>Italy</td>\n",
       "      <td>44</td>\n",
       "      <td>Female</td>\n",
       "      <td>Smart TV</td>\n",
       "      <td>1 Month</td>\n",
       "    </tr>\n",
       "  </tbody>\n",
       "</table>\n",
       "</div>"
      ],
      "text/plain": [
       "   User ID Subscription Type  Monthly Revenue Join Date Last Payment Date  \\\n",
       "0        1             Basic               10  15-01-22          10-06-23   \n",
       "1        2           Premium               15  05-09-21          22-06-23   \n",
       "2        3          Standard               12  28-02-23          27-06-23   \n",
       "3        4          Standard               12  10-07-22          26-06-23   \n",
       "4        5             Basic               10  01-05-23          28-06-23   \n",
       "5        6           Premium               15  18-03-22          27-06-23   \n",
       "6        7          Standard               12  09-12-21          25-06-23   \n",
       "7        8             Basic               10  02-04-23          24-06-23   \n",
       "8        9          Standard               12  20-10-22          23-06-23   \n",
       "9       10           Premium               15  07-01-23          22-06-23   \n",
       "\n",
       "          Country  Age  Gender      Device Plan Duration  \n",
       "0   United States   28    Male  Smartphone       1 Month  \n",
       "1          Canada   35  Female      Tablet       1 Month  \n",
       "2  United Kingdom   42    Male    Smart TV       1 Month  \n",
       "3       Australia   51  Female      Laptop       1 Month  \n",
       "4         Germany   33    Male  Smartphone       1 Month  \n",
       "5          France   29  Female    Smart TV       1 Month  \n",
       "6          Brazil   46    Male      Tablet       1 Month  \n",
       "7          Mexico   39  Female      Laptop       1 Month  \n",
       "8           Spain   37    Male  Smartphone       1 Month  \n",
       "9           Italy   44  Female    Smart TV       1 Month  "
      ]
     },
     "execution_count": 190,
     "metadata": {},
     "output_type": "execute_result"
    }
   ],
   "source": [
    "# Display the first 10 rows of the DataFrame\n",
    "df.head(10)"
   ]
  },
  {
   "cell_type": "code",
   "execution_count": 191,
   "id": "c1ce8917",
   "metadata": {},
   "outputs": [
    {
     "name": "stdout",
     "output_type": "stream",
     "text": [
      "<class 'pandas.core.frame.DataFrame'>\n",
      "RangeIndex: 2500 entries, 0 to 2499\n",
      "Data columns (total 10 columns):\n",
      " #   Column             Non-Null Count  Dtype \n",
      "---  ------             --------------  ----- \n",
      " 0   User ID            2500 non-null   int64 \n",
      " 1   Subscription Type  2500 non-null   object\n",
      " 2   Monthly Revenue    2500 non-null   int64 \n",
      " 3   Join Date          2500 non-null   object\n",
      " 4   Last Payment Date  2500 non-null   object\n",
      " 5   Country            2500 non-null   object\n",
      " 6   Age                2500 non-null   int64 \n",
      " 7   Gender             2500 non-null   object\n",
      " 8   Device             2500 non-null   object\n",
      " 9   Plan Duration      2500 non-null   object\n",
      "dtypes: int64(3), object(7)\n",
      "memory usage: 195.4+ KB\n"
     ]
    }
   ],
   "source": [
    "#Information about the columns, data types, and missing values\n",
    "df.info()"
   ]
  },
  {
   "cell_type": "code",
   "execution_count": 192,
   "id": "49d441ad",
   "metadata": {},
   "outputs": [
    {
     "data": {
      "text/html": [
       "<div>\n",
       "<style scoped>\n",
       "    .dataframe tbody tr th:only-of-type {\n",
       "        vertical-align: middle;\n",
       "    }\n",
       "\n",
       "    .dataframe tbody tr th {\n",
       "        vertical-align: top;\n",
       "    }\n",
       "\n",
       "    .dataframe thead th {\n",
       "        text-align: right;\n",
       "    }\n",
       "</style>\n",
       "<table border=\"1\" class=\"dataframe\">\n",
       "  <thead>\n",
       "    <tr style=\"text-align: right;\">\n",
       "      <th></th>\n",
       "      <th>User ID</th>\n",
       "      <th>Monthly Revenue</th>\n",
       "      <th>Age</th>\n",
       "    </tr>\n",
       "  </thead>\n",
       "  <tbody>\n",
       "    <tr>\n",
       "      <th>count</th>\n",
       "      <td>2500.00000</td>\n",
       "      <td>2500.000000</td>\n",
       "      <td>2500.000000</td>\n",
       "    </tr>\n",
       "    <tr>\n",
       "      <th>mean</th>\n",
       "      <td>1250.50000</td>\n",
       "      <td>12.508400</td>\n",
       "      <td>38.795600</td>\n",
       "    </tr>\n",
       "    <tr>\n",
       "      <th>std</th>\n",
       "      <td>721.83216</td>\n",
       "      <td>1.686851</td>\n",
       "      <td>7.171778</td>\n",
       "    </tr>\n",
       "    <tr>\n",
       "      <th>min</th>\n",
       "      <td>1.00000</td>\n",
       "      <td>10.000000</td>\n",
       "      <td>26.000000</td>\n",
       "    </tr>\n",
       "    <tr>\n",
       "      <th>25%</th>\n",
       "      <td>625.75000</td>\n",
       "      <td>11.000000</td>\n",
       "      <td>32.000000</td>\n",
       "    </tr>\n",
       "    <tr>\n",
       "      <th>50%</th>\n",
       "      <td>1250.50000</td>\n",
       "      <td>12.000000</td>\n",
       "      <td>39.000000</td>\n",
       "    </tr>\n",
       "    <tr>\n",
       "      <th>75%</th>\n",
       "      <td>1875.25000</td>\n",
       "      <td>14.000000</td>\n",
       "      <td>45.000000</td>\n",
       "    </tr>\n",
       "    <tr>\n",
       "      <th>max</th>\n",
       "      <td>2500.00000</td>\n",
       "      <td>15.000000</td>\n",
       "      <td>51.000000</td>\n",
       "    </tr>\n",
       "  </tbody>\n",
       "</table>\n",
       "</div>"
      ],
      "text/plain": [
       "          User ID  Monthly Revenue          Age\n",
       "count  2500.00000      2500.000000  2500.000000\n",
       "mean   1250.50000        12.508400    38.795600\n",
       "std     721.83216         1.686851     7.171778\n",
       "min       1.00000        10.000000    26.000000\n",
       "25%     625.75000        11.000000    32.000000\n",
       "50%    1250.50000        12.000000    39.000000\n",
       "75%    1875.25000        14.000000    45.000000\n",
       "max    2500.00000        15.000000    51.000000"
      ]
     },
     "execution_count": 192,
     "metadata": {},
     "output_type": "execute_result"
    }
   ],
   "source": [
    "# Summary statistics for numerical columns\n",
    "df.describe()"
   ]
  },
  {
   "cell_type": "code",
   "execution_count": 193,
   "id": "66000a76",
   "metadata": {},
   "outputs": [
    {
     "data": {
      "text/html": [
       "<div>\n",
       "<style scoped>\n",
       "    .dataframe tbody tr th:only-of-type {\n",
       "        vertical-align: middle;\n",
       "    }\n",
       "\n",
       "    .dataframe tbody tr th {\n",
       "        vertical-align: top;\n",
       "    }\n",
       "\n",
       "    .dataframe thead th {\n",
       "        text-align: right;\n",
       "    }\n",
       "</style>\n",
       "<table border=\"1\" class=\"dataframe\">\n",
       "  <thead>\n",
       "    <tr style=\"text-align: right;\">\n",
       "      <th></th>\n",
       "      <th>Subscription Type</th>\n",
       "      <th>Join Date</th>\n",
       "      <th>Last Payment Date</th>\n",
       "      <th>Country</th>\n",
       "      <th>Gender</th>\n",
       "      <th>Device</th>\n",
       "      <th>Plan Duration</th>\n",
       "    </tr>\n",
       "  </thead>\n",
       "  <tbody>\n",
       "    <tr>\n",
       "      <th>count</th>\n",
       "      <td>2500</td>\n",
       "      <td>2500</td>\n",
       "      <td>2500</td>\n",
       "      <td>2500</td>\n",
       "      <td>2500</td>\n",
       "      <td>2500</td>\n",
       "      <td>2500</td>\n",
       "    </tr>\n",
       "    <tr>\n",
       "      <th>unique</th>\n",
       "      <td>3</td>\n",
       "      <td>300</td>\n",
       "      <td>26</td>\n",
       "      <td>10</td>\n",
       "      <td>2</td>\n",
       "      <td>4</td>\n",
       "      <td>1</td>\n",
       "    </tr>\n",
       "    <tr>\n",
       "      <th>top</th>\n",
       "      <td>Basic</td>\n",
       "      <td>05-11-22</td>\n",
       "      <td>28-06-23</td>\n",
       "      <td>United States</td>\n",
       "      <td>Female</td>\n",
       "      <td>Laptop</td>\n",
       "      <td>1 Month</td>\n",
       "    </tr>\n",
       "    <tr>\n",
       "      <th>freq</th>\n",
       "      <td>999</td>\n",
       "      <td>33</td>\n",
       "      <td>164</td>\n",
       "      <td>451</td>\n",
       "      <td>1257</td>\n",
       "      <td>636</td>\n",
       "      <td>2500</td>\n",
       "    </tr>\n",
       "  </tbody>\n",
       "</table>\n",
       "</div>"
      ],
      "text/plain": [
       "       Subscription Type Join Date Last Payment Date        Country  Gender  \\\n",
       "count               2500      2500              2500           2500    2500   \n",
       "unique                 3       300                26             10       2   \n",
       "top                Basic  05-11-22          28-06-23  United States  Female   \n",
       "freq                 999        33               164            451    1257   \n",
       "\n",
       "        Device Plan Duration  \n",
       "count     2500          2500  \n",
       "unique       4             1  \n",
       "top     Laptop       1 Month  \n",
       "freq       636          2500  "
      ]
     },
     "execution_count": 193,
     "metadata": {},
     "output_type": "execute_result"
    }
   ],
   "source": [
    " # Summary statistics for categorical columns\n",
    "df.describe(include='object')"
   ]
  },
  {
   "cell_type": "code",
   "execution_count": 194,
   "id": "0f9201d3",
   "metadata": {},
   "outputs": [
    {
     "name": "stdout",
     "output_type": "stream",
     "text": [
      "No of Rows: 2500 \n",
      "No of Columns: 10\n"
     ]
    }
   ],
   "source": [
    "#Number of rows and columns in the dataset\n",
    "rows, columns = df.shape\n",
    "print(\"No of Rows:\", rows, \"\\nNo of Columns:\", columns)"
   ]
  },
  {
   "cell_type": "code",
   "execution_count": 195,
   "id": "d62f4a4f",
   "metadata": {},
   "outputs": [
    {
     "data": {
      "text/plain": [
       "User ID              0\n",
       "Subscription Type    0\n",
       "Monthly Revenue      0\n",
       "Join Date            0\n",
       "Last Payment Date    0\n",
       "Country              0\n",
       "Age                  0\n",
       "Gender               0\n",
       "Device               0\n",
       "Plan Duration        0\n",
       "dtype: int64"
      ]
     },
     "execution_count": 195,
     "metadata": {},
     "output_type": "execute_result"
    }
   ],
   "source": [
    "# Check for missing values\n",
    "df.isnull().sum()"
   ]
  },
  {
   "cell_type": "markdown",
   "id": "7a74a21f",
   "metadata": {},
   "source": [
    "#### Since there are no missing values we won't be dropping any rows or columns."
   ]
  },
  {
   "cell_type": "code",
   "execution_count": 196,
   "id": "a7b7ed13",
   "metadata": {},
   "outputs": [],
   "source": [
    "# Convert Join Date and Last Payment Date to datetime\n",
    "df['Join Date'] = pd.to_datetime(df['Join Date'])\n",
    "df['Last Payment Date'] = pd.to_datetime(df['Last Payment Date'])"
   ]
  },
  {
   "cell_type": "code",
   "execution_count": 197,
   "id": "f3d1cc0a",
   "metadata": {},
   "outputs": [
    {
     "name": "stdout",
     "output_type": "stream",
     "text": [
      "<class 'pandas.core.frame.DataFrame'>\n",
      "RangeIndex: 2500 entries, 0 to 2499\n",
      "Data columns (total 10 columns):\n",
      " #   Column             Non-Null Count  Dtype         \n",
      "---  ------             --------------  -----         \n",
      " 0   User ID            2500 non-null   int64         \n",
      " 1   Subscription Type  2500 non-null   object        \n",
      " 2   Monthly Revenue    2500 non-null   int64         \n",
      " 3   Join Date          2500 non-null   datetime64[ns]\n",
      " 4   Last Payment Date  2500 non-null   datetime64[ns]\n",
      " 5   Country            2500 non-null   object        \n",
      " 6   Age                2500 non-null   int64         \n",
      " 7   Gender             2500 non-null   object        \n",
      " 8   Device             2500 non-null   object        \n",
      " 9   Plan Duration      2500 non-null   object        \n",
      "dtypes: datetime64[ns](2), int64(3), object(5)\n",
      "memory usage: 195.4+ KB\n"
     ]
    }
   ],
   "source": [
    "#Check if the data columns have changed\n",
    "df.info()"
   ]
  },
  {
   "cell_type": "code",
   "execution_count": 198,
   "id": "0c0afe02",
   "metadata": {},
   "outputs": [
    {
     "data": {
      "text/html": [
       "<div>\n",
       "<style scoped>\n",
       "    .dataframe tbody tr th:only-of-type {\n",
       "        vertical-align: middle;\n",
       "    }\n",
       "\n",
       "    .dataframe tbody tr th {\n",
       "        vertical-align: top;\n",
       "    }\n",
       "\n",
       "    .dataframe thead th {\n",
       "        text-align: right;\n",
       "    }\n",
       "</style>\n",
       "<table border=\"1\" class=\"dataframe\">\n",
       "  <thead>\n",
       "    <tr style=\"text-align: right;\">\n",
       "      <th></th>\n",
       "      <th>User ID</th>\n",
       "      <th>Subscription Type</th>\n",
       "      <th>Monthly Revenue</th>\n",
       "      <th>Join Date</th>\n",
       "      <th>Last Payment Date</th>\n",
       "      <th>Country</th>\n",
       "      <th>Age</th>\n",
       "      <th>Gender</th>\n",
       "      <th>Device</th>\n",
       "      <th>Plan Duration</th>\n",
       "    </tr>\n",
       "  </thead>\n",
       "  <tbody>\n",
       "    <tr>\n",
       "      <th>0</th>\n",
       "      <td>1</td>\n",
       "      <td>Basic</td>\n",
       "      <td>10</td>\n",
       "      <td>2022-01-15</td>\n",
       "      <td>2023-10-06</td>\n",
       "      <td>United States</td>\n",
       "      <td>28</td>\n",
       "      <td>Male</td>\n",
       "      <td>Smartphone</td>\n",
       "      <td>1 Month</td>\n",
       "    </tr>\n",
       "    <tr>\n",
       "      <th>1</th>\n",
       "      <td>2</td>\n",
       "      <td>Premium</td>\n",
       "      <td>15</td>\n",
       "      <td>2021-05-09</td>\n",
       "      <td>2023-06-22</td>\n",
       "      <td>Canada</td>\n",
       "      <td>35</td>\n",
       "      <td>Female</td>\n",
       "      <td>Tablet</td>\n",
       "      <td>1 Month</td>\n",
       "    </tr>\n",
       "    <tr>\n",
       "      <th>2</th>\n",
       "      <td>3</td>\n",
       "      <td>Standard</td>\n",
       "      <td>12</td>\n",
       "      <td>2023-02-28</td>\n",
       "      <td>2023-06-27</td>\n",
       "      <td>United Kingdom</td>\n",
       "      <td>42</td>\n",
       "      <td>Male</td>\n",
       "      <td>Smart TV</td>\n",
       "      <td>1 Month</td>\n",
       "    </tr>\n",
       "    <tr>\n",
       "      <th>3</th>\n",
       "      <td>4</td>\n",
       "      <td>Standard</td>\n",
       "      <td>12</td>\n",
       "      <td>2022-10-07</td>\n",
       "      <td>2023-06-26</td>\n",
       "      <td>Australia</td>\n",
       "      <td>51</td>\n",
       "      <td>Female</td>\n",
       "      <td>Laptop</td>\n",
       "      <td>1 Month</td>\n",
       "    </tr>\n",
       "    <tr>\n",
       "      <th>4</th>\n",
       "      <td>5</td>\n",
       "      <td>Basic</td>\n",
       "      <td>10</td>\n",
       "      <td>2023-01-05</td>\n",
       "      <td>2023-06-28</td>\n",
       "      <td>Germany</td>\n",
       "      <td>33</td>\n",
       "      <td>Male</td>\n",
       "      <td>Smartphone</td>\n",
       "      <td>1 Month</td>\n",
       "    </tr>\n",
       "  </tbody>\n",
       "</table>\n",
       "</div>"
      ],
      "text/plain": [
       "   User ID Subscription Type  Monthly Revenue  Join Date Last Payment Date  \\\n",
       "0        1             Basic               10 2022-01-15        2023-10-06   \n",
       "1        2           Premium               15 2021-05-09        2023-06-22   \n",
       "2        3          Standard               12 2023-02-28        2023-06-27   \n",
       "3        4          Standard               12 2022-10-07        2023-06-26   \n",
       "4        5             Basic               10 2023-01-05        2023-06-28   \n",
       "\n",
       "          Country  Age  Gender      Device Plan Duration  \n",
       "0   United States   28    Male  Smartphone       1 Month  \n",
       "1          Canada   35  Female      Tablet       1 Month  \n",
       "2  United Kingdom   42    Male    Smart TV       1 Month  \n",
       "3       Australia   51  Female      Laptop       1 Month  \n",
       "4         Germany   33    Male  Smartphone       1 Month  "
      ]
     },
     "execution_count": 198,
     "metadata": {},
     "output_type": "execute_result"
    }
   ],
   "source": [
    "# Display the first rows of the DataFrame to check the date values in the columns\n",
    "df.head()"
   ]
  },
  {
   "cell_type": "markdown",
   "id": "a352d963",
   "metadata": {},
   "source": [
    "### Plotting a histogram to understand membership durations in months"
   ]
  },
  {
   "cell_type": "code",
   "execution_count": 199,
   "id": "ec59ed5a",
   "metadata": {},
   "outputs": [
    {
     "data": {
      "image/png": "[encoded data removed]",
      "text/plain": [
       "<Figure size 432x288 with 1 Axes>"
      ]
     },
     "metadata": {
      "needs_background": "light"
     },
     "output_type": "display_data"
    }
   ],
   "source": [
    "# Calculate the membership duration in months\n",
    "df['Membership Duration'] = (df['Last Payment Date'] - df['Join Date']) / pd.Timedelta(days=30)\n",
    "\n",
    "# Plot the distribution of membership duration in months\n",
    "plt.hist(df['Membership Duration'], bins=10)\n",
    "plt.xlabel('Membership Duration (months)')\n",
    "plt.ylabel('User Count')\n",
    "plt.title('Distribution of Membership Duration in months')\n",
    "plt.show()"
   ]
  },
  {
   "cell_type": "markdown",
   "id": "59dbc7e5",
   "metadata": {},
   "source": [
    "#### We can see that there are negative values for the duration which are possible outliers because the Last Payment date should be past the Join Date. Let's print the values of the Join Date and Last Payment dates to see how many outliers exist."
   ]
  },
  {
   "cell_type": "code",
   "execution_count": 200,
   "id": "44e495ad",
   "metadata": {},
   "outputs": [
    {
     "name": "stdout",
     "output_type": "stream",
     "text": [
      "Negative values are\n",
      "     Join Date Last Payment Date  Membership Duration\n",
      "9   2023-07-01        2023-06-22            -0.300000\n",
      "14  2023-09-05        2023-06-28            -2.300000\n",
      "20  2023-10-06        2023-06-22            -3.533333\n",
      "34  2023-11-04        2023-06-28            -4.300000\n",
      "39  2023-07-03        2023-06-22            -0.366667\n",
      "60  2023-08-02        2023-06-22            -1.366667\n",
      "69  2023-08-05        2023-06-22            -1.466667\n",
      "80  2023-11-01        2023-06-24            -4.333333\n",
      "108 2023-08-02        2023-06-25            -1.266667\n",
      "129 2023-07-01        2023-06-23            -0.266667\n",
      "153 2023-11-03        2023-06-27            -4.300000\n",
      "169 2023-12-01        2023-06-25            -5.300000\n",
      "222 2023-08-01        2023-06-25            -1.233333\n"
     ]
    }
   ],
   "source": [
    "# Extract the 'Membership Duration' column as a numpy array\n",
    "x = df['Membership Duration'].values\n",
    "\n",
    "# Check for negative values\n",
    "negative_values = np.where(x < 0)[0]\n",
    "\n",
    "# Print the negative values\n",
    "if len(negative_values) > 0:\n",
    "    print(\"Negative values are\")\n",
    "    print(df[[ 'Join Date','Last Payment Date', 'Membership Duration']].iloc[negative_values])\n",
    "else:\n",
    "    print(\"No Negative values\")"
   ]
  },
  {
   "cell_type": "markdown",
   "id": "72a6a0cb",
   "metadata": {},
   "source": [
    "#### We will drop the outliers by dropping the rows that contain the outlier, as there are just few rows."
   ]
  },
  {
   "cell_type": "code",
   "execution_count": 201,
   "id": "503aff83",
   "metadata": {},
   "outputs": [],
   "source": [
    "if len(negative_values) > 0:\n",
    "    df = df.drop(index=df.index[negative_values])"
   ]
  },
  {
   "cell_type": "markdown",
   "id": "ba043bda",
   "metadata": {},
   "source": [
    "#### Check if the outliers are removed and plot the histogram again."
   ]
  },
  {
   "cell_type": "code",
   "execution_count": 202,
   "id": "659192c8",
   "metadata": {},
   "outputs": [
    {
     "name": "stdout",
     "output_type": "stream",
     "text": [
      "No Negative values\n"
     ]
    }
   ],
   "source": [
    "# Print the negative values\n",
    "if len(negative_values) < 0:\n",
    "    print(\"Negative values are\")\n",
    "    print(df[[ 'Join Date','Last Payment Date', 'Membership Duration']].iloc[negative_values])\n",
    "    \n",
    "else:\n",
    "    print(\"No Negative values\")"
   ]
  },
  {
   "cell_type": "code",
   "execution_count": 203,
   "id": "79418aff",
   "metadata": {},
   "outputs": [
    {
     "data": {
      "image/png": "[encoded data removed]",
      "text/plain": [
       "<Figure size 432x288 with 1 Axes>"
      ]
     },
     "metadata": {
      "needs_background": "light"
     },
     "output_type": "display_data"
    }
   ],
   "source": [
    "# Plot the distribution of membership duration in months\n",
    "plt.hist(df['Membership Duration'], bins=10)\n",
    "plt.xlabel('Membership Duration (months)')\n",
    "plt.ylabel('Count')\n",
    "plt.title('Distribution of Membership Duration')\n",
    "plt.show()"
   ]
  },
  {
   "cell_type": "markdown",
   "id": "1d705b0e",
   "metadata": {},
   "source": [
    "### Analyzing the categorical variables using Seaborn's Count Plots"
   ]
  },
  {
   "cell_type": "code",
   "execution_count": 204,
   "id": "05be3832",
   "metadata": {},
   "outputs": [
    {
     "data": {
      "image/png": "[encoded data removed]",
      "text/plain": [
       "<Figure size 432x288 with 1 Axes>"
      ]
     },
     "metadata": {
      "needs_background": "light"
     },
     "output_type": "display_data"
    },
    {
     "name": "stdout",
     "output_type": "stream",
     "text": [
      "Percentage of each subscription type:\n",
      "Basic       39.97\n",
      "Standard    30.72\n",
      "Premium     29.31\n",
      "Name: Subscription Type, dtype: float64\n"
     ]
    }
   ],
   "source": [
    "# Count plot to count the users based on the Subscription Type\n",
    "sb = sns.countplot(x='Subscription Type', data=df)\n",
    "plt.xlabel('Subscription Type')\n",
    "plt.ylabel('User Count')\n",
    "plt.title('Types of subscriptions purchased by users')\n",
    "# Add value labels to each bar\n",
    "for p in sb.patches:\n",
    "    sb.annotate(f'{p.get_height()}', (p.get_x() + p.get_width() / 2., p.get_height()),\n",
    "                ha='center', va='center', fontsize=10, color='black', xytext=(0, 5),\n",
    "                textcoords='offset points')\n",
    "plt.show()\n",
    "\n",
    "#Calculating the percentage for each subscription type purchased\n",
    "total_users = len(df)\n",
    "subscription_counts = df['Subscription Type'].value_counts()\n",
    "subscription_percentages = ((subscription_counts / total_users) * 100).round(2)\n",
    "print(\"Percentage of each subscription type:\")\n",
    "print(subscription_percentages)"
   ]
  },
  {
   "cell_type": "code",
   "execution_count": 205,
   "id": "331bb430",
   "metadata": {},
   "outputs": [
    {
     "data": {
      "image/png": "[encoded data removed]",
      "text/plain": [
       "<Figure size 432x288 with 1 Axes>"
      ]
     },
     "metadata": {
      "needs_background": "light"
     },
     "output_type": "display_data"
    },
    {
     "name": "stdout",
     "output_type": "stream",
     "text": [
      "Percentage of each device type:\n",
      "Laptop        25.41\n",
      "Tablet        25.29\n",
      "Smartphone    24.89\n",
      "Smart TV      24.41\n",
      "Name: Device, dtype: float64\n"
     ]
    }
   ],
   "source": [
    "# Count plot to count the users per the device used\n",
    "dv = sns.countplot(x='Device', data=df)\n",
    "plt.xlabel('Device type')\n",
    "plt.ylabel('User Count')\n",
    "plt.title('Types of devices used to watch Netflix by users')\n",
    "\n",
    "# Add value labels to each bar\n",
    "for p in dv.patches:\n",
    "    dv.annotate(f'{p.get_height()}', (p.get_x() + p.get_width() / 2., p.get_height()),\n",
    "                ha='center', va='center', fontsize=10, color='black', xytext=(0, 5),\n",
    "                textcoords='offset points')\n",
    "plt.show()\n",
    "\n",
    "#Calculating the percentage for each device type used\n",
    "device_counts = df['Device'].value_counts()\n",
    "device_percentages = ((device_counts / total_users) * 100).round(2)\n",
    "print(\"Percentage of each device type:\")\n",
    "print(device_percentages)"
   ]
  },
  {
   "cell_type": "code",
   "execution_count": 206,
   "id": "ac6a3288",
   "metadata": {},
   "outputs": [
    {
     "data": {
      "image/png": "[encoded data removed]",
      "text/plain": [
       "<Figure size 720x432 with 1 Axes>"
      ]
     },
     "metadata": {
      "needs_background": "light"
     },
     "output_type": "display_data"
    },
    {
     "name": "stdout",
     "output_type": "stream",
     "text": [
      "Percentage of users per country:\n",
      "Spain             18.094\n",
      "United States     18.014\n",
      "Canada            12.746\n",
      "France             7.358\n",
      "Brazil             7.358\n",
      "Mexico             7.358\n",
      "Australia          7.318\n",
      "United Kingdom     7.318\n",
      "Germany            7.278\n",
      "Italy              7.157\n",
      "Name: Country, dtype: float64\n"
     ]
    }
   ],
   "source": [
    "# Count plot to count the users per country\n",
    "plt.figure(figsize=(10, 6))\n",
    "cn = sns.countplot(x='Country', data=df, color='brown')\n",
    "plt.xlabel('Country')\n",
    "plt.ylabel('User Count')\n",
    "plt.title('Netflix Users per Country')\n",
    "plt.xticks(rotation=90)\n",
    "\n",
    "# Add value labels to each bar\n",
    "for p in cn.patches:\n",
    "    cn.annotate(f'{p.get_height()}', (p.get_x() + p.get_width() / 2., p.get_height()),\n",
    "                ha='center', va='center', fontsize=10, color='black', xytext=(0, 5),\n",
    "                textcoords='offset points')\n",
    "plt.show()\n",
    "\n",
    "#Calculating the percentage for users using Netflix per country\n",
    "country_counts = df['Country'].value_counts()\n",
    "country_percentages = ((country_counts / total_users) * 100).round(3)\n",
    "print(\"Percentage of users per country:\")\n",
    "print(country_percentages)"
   ]
  },
  {
   "cell_type": "markdown",
   "id": "61b6fc35",
   "metadata": {},
   "source": [
    "### Box plot for Monthly Revenue by Age Groups and Gender"
   ]
  },
  {
   "cell_type": "code",
   "execution_count": 207,
   "id": "eb289188",
   "metadata": {},
   "outputs": [
    {
     "data": {
      "image/png": "[encoded data removed]",
      "text/plain": [
       "<Figure size 432x288 with 1 Axes>"
      ]
     },
     "metadata": {
      "needs_background": "light"
     },
     "output_type": "display_data"
    }
   ],
   "source": [
    "#Group ages into 5 different groups\n",
    "df['Age Group'] = pd.cut(df['Age'], bins=[0, 18, 25, 35, 50, 100], labels=['0-18', '19-25', '26-35', '36-50', '50+'])\n",
    "\n",
    "#Plot the boxplot\n",
    "sns.boxplot(x='Age Group', y='Monthly Revenue', hue='Gender', data=df)\n",
    "plt.xlabel('Age Group')\n",
    "plt.ylabel('Monthly Revenue')\n",
    "plt.title('Monthly Revenue by Age Groups and Gender')\n",
    "plt.show()"
   ]
  },
  {
   "cell_type": "markdown",
   "id": "ad0bf252",
   "metadata": {},
   "source": [
    "### Summary:"
   ]
  },
  {
   "cell_type": "markdown",
   "id": "cd41d5e4",
   "metadata": {},
   "source": [
    "#### As per the above analysis,"
   ]
  },
  {
   "cell_type": "markdown",
   "id": "4c5e97e2",
   "metadata": {},
   "source": [
    "#### •\tThe highest duration of membership purchased by users is in between 10-15 months.\n",
    "#### •\tThe basic subscription type is the most purchased type of subscription by 39.97% of the users.\n",
    "#### •\tLaptops are the most used devices by 25.41% of the users.\n",
    "#### •\tSpain and United States are the top countries with highest number of users watching Netflix with 18.09% and 18.01% respectively.\n",
    "#### •\tFor the age groups 26-35 and 36-50, the monthly revenue for 50% of males and females is between 11 and 14. For the age group over 50+, the monthly revenue for 50% of males is between 11 and 14 and 50% females is between 11 and 13\n"
   ]
  }
 ],
 "metadata": {
  "kernelspec": {
   "display_name": "Python 3",
   "language": "python",
   "name": "python3"
  },
  "language_info": {
   "codemirror_mode": {
    "name": "ipython",
    "version": 3
   },
   "file_extension": ".py",
   "mimetype": "text/x-python",
   "name": "python",
   "nbconvert_exporter": "python",
   "pygments_lexer": "ipython3",
   "version": "3.8.8"
  }
 },
 "nbformat": 4,
 "nbformat_minor": 5
}
